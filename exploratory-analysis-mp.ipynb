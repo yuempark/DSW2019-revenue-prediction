{
 "cells": [
  {
   "cell_type": "markdown",
   "metadata": {},
   "source": [
    "# Exploratory Analysis\n",
    "\n",
    "Group project for the 2019 Data Science Workshop at the University of California, Berkeley.\n",
    "\n",
    "The project is the Google Analytics Customer Revenue Prediction competition on Kaggle: https://www.kaggle.com/c/ga-customer-revenue-prediction\n",
    "\n",
    "Group members:\n",
    "\n",
    "* Andy Vargas (mentor)\n",
    "* Yuem Park\n",
    "* Marvin Pohl\n",
    "* Michael Yeh"
   ]
  },
  {
   "cell_type": "code",
   "execution_count": 56,
   "metadata": {},
   "outputs": [],
   "source": [
    "import matplotlib.pyplot as plt\n",
    "import pandas as pd\n",
    "import numpy as np\n",
    "import json\n",
    "import os\n",
    "import ast\n",
    "from pandas.io.json import json_normalize\n",
    "import pandas_profiling as pp\n",
    "import math"
   ]
  },
  {
   "cell_type": "markdown",
   "metadata": {},
   "source": [
    "Load data:\n",
    "\n",
    "Note that the data files are too large to upload to GitHub - instead, the directory `./data/` has been added to the .gitignore, which should contain the following files on your local machine, all downloaded from the Kaggle competition website:\n",
    "\n",
    "* sample_submission_v2.csv\n",
    "* test_v2.csv\n",
    "* train_v2.csv"
   ]
  },
  {
   "cell_type": "markdown",
   "metadata": {},
   "source": [
    "Some of the columns are in JSON format - the following function (taken from [here](https://www.kaggle.com/sudalairajkumar/simple-exploration-baseline-ga-customer-revenue)) flattens the JSON columns, such that we end up with a more typical data table, where each column has a single feature in it:"
   ]
  },
  {
   "cell_type": "code",
   "execution_count": 2,
   "metadata": {},
   "outputs": [],
   "source": [
    "def load_df(csv_path=None, nrows=None):\n",
    "    JSON_COLUMNS = ['device', 'geoNetwork', 'totals', 'trafficSource'] # columns of the dataframe that can readily be converted\n",
    "    JSON_COLUMNS2 = ['customDimensions','device', 'geoNetwork', 'totals', 'trafficSource'] # columns of the dataframe that need to be tweaked\n",
    "    \n",
    "    df = pd.read_csv(csv_path, \n",
    "                     converters={column: json.loads for column in JSON_COLUMNS}, # convert JSON_COLUMNS to json format\n",
    "                     dtype={'fullVisitorId': 'str'}, # Important!!\n",
    "                     nrows=nrows)\n",
    "    \n",
    "    for row in list(range(nrows)): # fill empty elements in column 'customDimensions' and \n",
    "        if df['customDimensions'][row] == '[]':\n",
    "            df['customDimensions'][row] = \"{'index':'','value':''}\"\n",
    "    \n",
    "    df['customDimensions'] = df['customDimensions'].str.replace(\"[\", '') # drop square brackets in column 'customDimensions'\n",
    "    df['customDimensions'] = df['customDimensions'].str.replace(\"]\", '')\n",
    "    df['customDimensions'] = df['customDimensions'].str.replace(\"'\", \"\\\"\")\n",
    "    \n",
    "    \n",
    "    for row in list(range(nrows)): # convert strings in 'customDimensions' to dict\n",
    "        df['customDimensions'][row] = json.loads(df['customDimensions'][row])\n",
    "        \n",
    "    for column in JSON_COLUMNS2: # distribute the dicts to separate columns of the dataframe\n",
    "        column_as_df = json_normalize(df[column])\n",
    "        column_as_df.columns = [f\"{column}.{subcolumn}\" for subcolumn in column_as_df.columns]\n",
    "        df = df.drop(column, axis=1).merge(column_as_df, right_index=True, left_index=True)\n",
    "    \n",
    "    return df"
   ]
  },
  {
   "cell_type": "code",
   "execution_count": 110,
   "metadata": {},
   "outputs": [],
   "source": [
    "def hits_converter(data):\n",
    "    return json.loads(json.dumps(ast.literal_eval(data)))\n",
    "\n",
    "def customDimensions_converter(data):\n",
    "    if data == '[]':\n",
    "        return {}\n",
    "    else:\n",
    "        return hits_converter(data)[0]\n",
    "\n",
    "def load_df(csv_path='data/train_v2.csv', nrows=None):\n",
    "    \n",
    "    conv_dict = {'device': json.loads,\n",
    "                'geoNetwork': json.loads,\n",
    "                'totals': json.loads,\n",
    "                'trafficSource': json.loads,\n",
    "                'hits': hits_converter,\n",
    "                'customDimensions': customDimensions_converter}\n",
    "    \n",
    "    df = pd.read_csv(csv_path, \n",
    "                     converters=conv_dict, \n",
    "                     dtype={'fullVisitorId': 'str'}, # Important!!\n",
    "                     nrows=nrows)\n",
    "    \n",
    "    df=df.explode('hits')\n",
    "    JSON_COLUMNS = ['device', 'geoNetwork', 'totals', 'trafficSource', 'hits', 'customDimensions']\n",
    "    for column in JSON_COLUMNS:\n",
    "        column_as_df = json_normalize(df[column])\n",
    "        column_as_df.columns = [f\"{column}.{subcolumn}\" for subcolumn in column_as_df.columns]\n",
    "        df = df.drop(column, axis=1).merge(column_as_df, right_index=True, left_index=True)\n",
    "        \n",
    "    df=df.reset_index()\n",
    "    return df"
   ]
  },
  {
   "cell_type": "markdown",
   "metadata": {},
   "source": [
    "Load a small subset of train_v2, defined by `nrows`."
   ]
  },
  {
   "cell_type": "code",
   "execution_count": 111,
   "metadata": {},
   "outputs": [
    {
     "name": "stdout",
     "output_type": "stream",
     "text": [
      "CPU times: user 10.1 s, sys: 114 ms, total: 10.2 s\n",
      "Wall time: 10.2 s\n"
     ]
    },
    {
     "data": {
      "text/html": [
       "<div>\n",
       "<style scoped>\n",
       "    .dataframe tbody tr th:only-of-type {\n",
       "        vertical-align: middle;\n",
       "    }\n",
       "\n",
       "    .dataframe tbody tr th {\n",
       "        vertical-align: top;\n",
       "    }\n",
       "\n",
       "    .dataframe thead th {\n",
       "        text-align: right;\n",
       "    }\n",
       "</style>\n",
       "<table border=\"1\" class=\"dataframe\">\n",
       "  <thead>\n",
       "    <tr style=\"text-align: right;\">\n",
       "      <th></th>\n",
       "      <th>index</th>\n",
       "      <th>channelGrouping</th>\n",
       "      <th>date</th>\n",
       "      <th>fullVisitorId</th>\n",
       "      <th>socialEngagementType</th>\n",
       "      <th>visitId</th>\n",
       "      <th>visitNumber</th>\n",
       "      <th>visitStartTime</th>\n",
       "      <th>device.browser</th>\n",
       "      <th>device.browserVersion</th>\n",
       "      <th>...</th>\n",
       "      <th>hits.transaction.transactionRevenue</th>\n",
       "      <th>hits.transaction.transactionTax</th>\n",
       "      <th>hits.transaction.transactionShipping</th>\n",
       "      <th>hits.transaction.affiliation</th>\n",
       "      <th>hits.transaction.localTransactionRevenue</th>\n",
       "      <th>hits.transaction.localTransactionTax</th>\n",
       "      <th>hits.transaction.localTransactionShipping</th>\n",
       "      <th>hits.item.transactionId</th>\n",
       "      <th>customDimensions.index</th>\n",
       "      <th>customDimensions.value</th>\n",
       "    </tr>\n",
       "  </thead>\n",
       "  <tbody>\n",
       "    <tr>\n",
       "      <th>0</th>\n",
       "      <td>0</td>\n",
       "      <td>Organic Search</td>\n",
       "      <td>20171016</td>\n",
       "      <td>3162355547410993243</td>\n",
       "      <td>Not Socially Engaged</td>\n",
       "      <td>1508198450</td>\n",
       "      <td>1</td>\n",
       "      <td>1508198450</td>\n",
       "      <td>Firefox</td>\n",
       "      <td>not available in demo dataset</td>\n",
       "      <td>...</td>\n",
       "      <td>NaN</td>\n",
       "      <td>NaN</td>\n",
       "      <td>NaN</td>\n",
       "      <td>NaN</td>\n",
       "      <td>NaN</td>\n",
       "      <td>NaN</td>\n",
       "      <td>NaN</td>\n",
       "      <td>NaN</td>\n",
       "      <td>4</td>\n",
       "      <td>EMEA</td>\n",
       "    </tr>\n",
       "    <tr>\n",
       "      <th>1</th>\n",
       "      <td>1</td>\n",
       "      <td>Referral</td>\n",
       "      <td>20171016</td>\n",
       "      <td>8934116514970143966</td>\n",
       "      <td>Not Socially Engaged</td>\n",
       "      <td>1508176307</td>\n",
       "      <td>6</td>\n",
       "      <td>1508176307</td>\n",
       "      <td>Chrome</td>\n",
       "      <td>not available in demo dataset</td>\n",
       "      <td>...</td>\n",
       "      <td>NaN</td>\n",
       "      <td>NaN</td>\n",
       "      <td>NaN</td>\n",
       "      <td>NaN</td>\n",
       "      <td>NaN</td>\n",
       "      <td>NaN</td>\n",
       "      <td>NaN</td>\n",
       "      <td>NaN</td>\n",
       "      <td>4</td>\n",
       "      <td>North America</td>\n",
       "    </tr>\n",
       "    <tr>\n",
       "      <th>2</th>\n",
       "      <td>1</td>\n",
       "      <td>Referral</td>\n",
       "      <td>20171016</td>\n",
       "      <td>8934116514970143966</td>\n",
       "      <td>Not Socially Engaged</td>\n",
       "      <td>1508176307</td>\n",
       "      <td>6</td>\n",
       "      <td>1508176307</td>\n",
       "      <td>Chrome</td>\n",
       "      <td>not available in demo dataset</td>\n",
       "      <td>...</td>\n",
       "      <td>NaN</td>\n",
       "      <td>NaN</td>\n",
       "      <td>NaN</td>\n",
       "      <td>NaN</td>\n",
       "      <td>NaN</td>\n",
       "      <td>NaN</td>\n",
       "      <td>NaN</td>\n",
       "      <td>NaN</td>\n",
       "      <td>4</td>\n",
       "      <td>North America</td>\n",
       "    </tr>\n",
       "    <tr>\n",
       "      <th>3</th>\n",
       "      <td>2</td>\n",
       "      <td>Direct</td>\n",
       "      <td>20171016</td>\n",
       "      <td>7992466427990357681</td>\n",
       "      <td>Not Socially Engaged</td>\n",
       "      <td>1508201613</td>\n",
       "      <td>1</td>\n",
       "      <td>1508201613</td>\n",
       "      <td>Chrome</td>\n",
       "      <td>not available in demo dataset</td>\n",
       "      <td>...</td>\n",
       "      <td>NaN</td>\n",
       "      <td>NaN</td>\n",
       "      <td>NaN</td>\n",
       "      <td>NaN</td>\n",
       "      <td>NaN</td>\n",
       "      <td>NaN</td>\n",
       "      <td>NaN</td>\n",
       "      <td>NaN</td>\n",
       "      <td>4</td>\n",
       "      <td>North America</td>\n",
       "    </tr>\n",
       "    <tr>\n",
       "      <th>4</th>\n",
       "      <td>2</td>\n",
       "      <td>Direct</td>\n",
       "      <td>20171016</td>\n",
       "      <td>7992466427990357681</td>\n",
       "      <td>Not Socially Engaged</td>\n",
       "      <td>1508201613</td>\n",
       "      <td>1</td>\n",
       "      <td>1508201613</td>\n",
       "      <td>Chrome</td>\n",
       "      <td>not available in demo dataset</td>\n",
       "      <td>...</td>\n",
       "      <td>NaN</td>\n",
       "      <td>NaN</td>\n",
       "      <td>NaN</td>\n",
       "      <td>NaN</td>\n",
       "      <td>NaN</td>\n",
       "      <td>NaN</td>\n",
       "      <td>NaN</td>\n",
       "      <td>NaN</td>\n",
       "      <td>4</td>\n",
       "      <td>North America</td>\n",
       "    </tr>\n",
       "    <tr>\n",
       "      <th>5</th>\n",
       "      <td>3</td>\n",
       "      <td>Organic Search</td>\n",
       "      <td>20171016</td>\n",
       "      <td>9075655783635761930</td>\n",
       "      <td>Not Socially Engaged</td>\n",
       "      <td>1508169851</td>\n",
       "      <td>1</td>\n",
       "      <td>1508169851</td>\n",
       "      <td>Chrome</td>\n",
       "      <td>not available in demo dataset</td>\n",
       "      <td>...</td>\n",
       "      <td>NaN</td>\n",
       "      <td>NaN</td>\n",
       "      <td>NaN</td>\n",
       "      <td>NaN</td>\n",
       "      <td>NaN</td>\n",
       "      <td>NaN</td>\n",
       "      <td>NaN</td>\n",
       "      <td>NaN</td>\n",
       "      <td>4</td>\n",
       "      <td>North America</td>\n",
       "    </tr>\n",
       "    <tr>\n",
       "      <th>6</th>\n",
       "      <td>3</td>\n",
       "      <td>Organic Search</td>\n",
       "      <td>20171016</td>\n",
       "      <td>9075655783635761930</td>\n",
       "      <td>Not Socially Engaged</td>\n",
       "      <td>1508169851</td>\n",
       "      <td>1</td>\n",
       "      <td>1508169851</td>\n",
       "      <td>Chrome</td>\n",
       "      <td>not available in demo dataset</td>\n",
       "      <td>...</td>\n",
       "      <td>NaN</td>\n",
       "      <td>NaN</td>\n",
       "      <td>NaN</td>\n",
       "      <td>NaN</td>\n",
       "      <td>NaN</td>\n",
       "      <td>NaN</td>\n",
       "      <td>NaN</td>\n",
       "      <td>NaN</td>\n",
       "      <td>4</td>\n",
       "      <td>North America</td>\n",
       "    </tr>\n",
       "    <tr>\n",
       "      <th>7</th>\n",
       "      <td>4</td>\n",
       "      <td>Organic Search</td>\n",
       "      <td>20171016</td>\n",
       "      <td>6960673291025684308</td>\n",
       "      <td>Not Socially Engaged</td>\n",
       "      <td>1508190552</td>\n",
       "      <td>1</td>\n",
       "      <td>1508190552</td>\n",
       "      <td>Chrome</td>\n",
       "      <td>not available in demo dataset</td>\n",
       "      <td>...</td>\n",
       "      <td>NaN</td>\n",
       "      <td>NaN</td>\n",
       "      <td>NaN</td>\n",
       "      <td>NaN</td>\n",
       "      <td>NaN</td>\n",
       "      <td>NaN</td>\n",
       "      <td>NaN</td>\n",
       "      <td>NaN</td>\n",
       "      <td>4</td>\n",
       "      <td>North America</td>\n",
       "    </tr>\n",
       "    <tr>\n",
       "      <th>8</th>\n",
       "      <td>4</td>\n",
       "      <td>Organic Search</td>\n",
       "      <td>20171016</td>\n",
       "      <td>6960673291025684308</td>\n",
       "      <td>Not Socially Engaged</td>\n",
       "      <td>1508190552</td>\n",
       "      <td>1</td>\n",
       "      <td>1508190552</td>\n",
       "      <td>Chrome</td>\n",
       "      <td>not available in demo dataset</td>\n",
       "      <td>...</td>\n",
       "      <td>NaN</td>\n",
       "      <td>NaN</td>\n",
       "      <td>NaN</td>\n",
       "      <td>NaN</td>\n",
       "      <td>NaN</td>\n",
       "      <td>NaN</td>\n",
       "      <td>NaN</td>\n",
       "      <td>NaN</td>\n",
       "      <td>4</td>\n",
       "      <td>North America</td>\n",
       "    </tr>\n",
       "    <tr>\n",
       "      <th>9</th>\n",
       "      <td>5</td>\n",
       "      <td>Referral</td>\n",
       "      <td>20171016</td>\n",
       "      <td>0166277907528479249</td>\n",
       "      <td>Not Socially Engaged</td>\n",
       "      <td>1508196701</td>\n",
       "      <td>1</td>\n",
       "      <td>1508196701</td>\n",
       "      <td>Chrome</td>\n",
       "      <td>not available in demo dataset</td>\n",
       "      <td>...</td>\n",
       "      <td>NaN</td>\n",
       "      <td>NaN</td>\n",
       "      <td>NaN</td>\n",
       "      <td>NaN</td>\n",
       "      <td>NaN</td>\n",
       "      <td>NaN</td>\n",
       "      <td>NaN</td>\n",
       "      <td>NaN</td>\n",
       "      <td>4</td>\n",
       "      <td>EMEA</td>\n",
       "    </tr>\n",
       "  </tbody>\n",
       "</table>\n",
       "<p>10 rows × 136 columns</p>\n",
       "</div>"
      ],
      "text/plain": [
       "   index channelGrouping      date        fullVisitorId  socialEngagementType  \\\n",
       "0      0  Organic Search  20171016  3162355547410993243  Not Socially Engaged   \n",
       "1      1        Referral  20171016  8934116514970143966  Not Socially Engaged   \n",
       "2      1        Referral  20171016  8934116514970143966  Not Socially Engaged   \n",
       "3      2          Direct  20171016  7992466427990357681  Not Socially Engaged   \n",
       "4      2          Direct  20171016  7992466427990357681  Not Socially Engaged   \n",
       "5      3  Organic Search  20171016  9075655783635761930  Not Socially Engaged   \n",
       "6      3  Organic Search  20171016  9075655783635761930  Not Socially Engaged   \n",
       "7      4  Organic Search  20171016  6960673291025684308  Not Socially Engaged   \n",
       "8      4  Organic Search  20171016  6960673291025684308  Not Socially Engaged   \n",
       "9      5        Referral  20171016  0166277907528479249  Not Socially Engaged   \n",
       "\n",
       "      visitId  visitNumber  visitStartTime device.browser  \\\n",
       "0  1508198450            1      1508198450        Firefox   \n",
       "1  1508176307            6      1508176307         Chrome   \n",
       "2  1508176307            6      1508176307         Chrome   \n",
       "3  1508201613            1      1508201613         Chrome   \n",
       "4  1508201613            1      1508201613         Chrome   \n",
       "5  1508169851            1      1508169851         Chrome   \n",
       "6  1508169851            1      1508169851         Chrome   \n",
       "7  1508190552            1      1508190552         Chrome   \n",
       "8  1508190552            1      1508190552         Chrome   \n",
       "9  1508196701            1      1508196701         Chrome   \n",
       "\n",
       "           device.browserVersion  ... hits.transaction.transactionRevenue  \\\n",
       "0  not available in demo dataset  ...                                 NaN   \n",
       "1  not available in demo dataset  ...                                 NaN   \n",
       "2  not available in demo dataset  ...                                 NaN   \n",
       "3  not available in demo dataset  ...                                 NaN   \n",
       "4  not available in demo dataset  ...                                 NaN   \n",
       "5  not available in demo dataset  ...                                 NaN   \n",
       "6  not available in demo dataset  ...                                 NaN   \n",
       "7  not available in demo dataset  ...                                 NaN   \n",
       "8  not available in demo dataset  ...                                 NaN   \n",
       "9  not available in demo dataset  ...                                 NaN   \n",
       "\n",
       "  hits.transaction.transactionTax hits.transaction.transactionShipping  \\\n",
       "0                             NaN                                  NaN   \n",
       "1                             NaN                                  NaN   \n",
       "2                             NaN                                  NaN   \n",
       "3                             NaN                                  NaN   \n",
       "4                             NaN                                  NaN   \n",
       "5                             NaN                                  NaN   \n",
       "6                             NaN                                  NaN   \n",
       "7                             NaN                                  NaN   \n",
       "8                             NaN                                  NaN   \n",
       "9                             NaN                                  NaN   \n",
       "\n",
       "   hits.transaction.affiliation hits.transaction.localTransactionRevenue  \\\n",
       "0                           NaN                                      NaN   \n",
       "1                           NaN                                      NaN   \n",
       "2                           NaN                                      NaN   \n",
       "3                           NaN                                      NaN   \n",
       "4                           NaN                                      NaN   \n",
       "5                           NaN                                      NaN   \n",
       "6                           NaN                                      NaN   \n",
       "7                           NaN                                      NaN   \n",
       "8                           NaN                                      NaN   \n",
       "9                           NaN                                      NaN   \n",
       "\n",
       "  hits.transaction.localTransactionTax  \\\n",
       "0                                  NaN   \n",
       "1                                  NaN   \n",
       "2                                  NaN   \n",
       "3                                  NaN   \n",
       "4                                  NaN   \n",
       "5                                  NaN   \n",
       "6                                  NaN   \n",
       "7                                  NaN   \n",
       "8                                  NaN   \n",
       "9                                  NaN   \n",
       "\n",
       "  hits.transaction.localTransactionShipping hits.item.transactionId  \\\n",
       "0                                       NaN                     NaN   \n",
       "1                                       NaN                     NaN   \n",
       "2                                       NaN                     NaN   \n",
       "3                                       NaN                     NaN   \n",
       "4                                       NaN                     NaN   \n",
       "5                                       NaN                     NaN   \n",
       "6                                       NaN                     NaN   \n",
       "7                                       NaN                     NaN   \n",
       "8                                       NaN                     NaN   \n",
       "9                                       NaN                     NaN   \n",
       "\n",
       "  customDimensions.index customDimensions.value  \n",
       "0                      4                   EMEA  \n",
       "1                      4          North America  \n",
       "2                      4          North America  \n",
       "3                      4          North America  \n",
       "4                      4          North America  \n",
       "5                      4          North America  \n",
       "6                      4          North America  \n",
       "7                      4          North America  \n",
       "8                      4          North America  \n",
       "9                      4                   EMEA  \n",
       "\n",
       "[10 rows x 136 columns]"
      ]
     },
     "execution_count": 111,
     "metadata": {},
     "output_type": "execute_result"
    }
   ],
   "source": [
    "%%time\n",
    "train_df = load_df('./data/train_v2.csv', nrows=1700) # nrows defines size of subset\n",
    "train_df.head(10)"
   ]
  },
  {
   "cell_type": "code",
   "execution_count": 118,
   "metadata": {
    "scrolled": false
   },
   "outputs": [
    {
     "name": "stdout",
     "output_type": "stream",
     "text": [
      "index\n",
      "channelGrouping\n",
      "date\n",
      "fullVisitorId\n",
      "socialEngagementType\n",
      "visitId\n",
      "visitNumber\n",
      "visitStartTime\n",
      "device.browser\n",
      "device.browserVersion\n",
      "device.browserSize\n",
      "device.operatingSystem\n",
      "device.operatingSystemVersion\n",
      "device.isMobile\n",
      "device.mobileDeviceBranding\n",
      "device.mobileDeviceModel\n",
      "device.mobileInputSelector\n",
      "device.mobileDeviceInfo\n",
      "device.mobileDeviceMarketingName\n",
      "device.flashVersion\n",
      "device.language\n",
      "device.screenColors\n",
      "device.screenResolution\n",
      "device.deviceCategory\n",
      "geoNetwork.continent\n",
      "geoNetwork.subContinent\n",
      "geoNetwork.country\n",
      "geoNetwork.region\n",
      "geoNetwork.metro\n",
      "geoNetwork.city\n",
      "geoNetwork.cityId\n",
      "geoNetwork.networkDomain\n",
      "geoNetwork.latitude\n",
      "geoNetwork.longitude\n",
      "geoNetwork.networkLocation\n",
      "totals.visits\n",
      "totals.hits\n",
      "totals.pageviews\n",
      "totals.bounces\n",
      "totals.newVisits\n",
      "totals.sessionQualityDim\n",
      "totals.timeOnSite\n",
      "totals.transactions\n",
      "totals.transactionRevenue\n",
      "totals.totalTransactionRevenue\n",
      "trafficSource.campaign\n",
      "trafficSource.source\n",
      "trafficSource.medium\n",
      "trafficSource.keyword\n",
      "trafficSource.adwordsClickInfo.criteriaParameters\n",
      "trafficSource.referralPath\n",
      "trafficSource.isTrueDirect\n",
      "trafficSource.adContent\n",
      "trafficSource.adwordsClickInfo.page\n",
      "trafficSource.adwordsClickInfo.slot\n",
      "trafficSource.adwordsClickInfo.gclId\n",
      "trafficSource.adwordsClickInfo.adNetworkType\n",
      "trafficSource.adwordsClickInfo.isVideoAd\n",
      "hits.hitNumber\n",
      "hits.time\n",
      "hits.hour\n",
      "hits.minute\n",
      "hits.isInteraction\n",
      "hits.isEntrance\n",
      "hits.isExit\n",
      "hits.referer\n",
      "hits.product\n",
      "hits.promotion\n",
      "hits.experiment\n",
      "hits.customVariables\n",
      "hits.customDimensions\n",
      "hits.customMetrics\n",
      "hits.type\n",
      "hits.dataSource\n",
      "hits.publisher_infos\n",
      "hits.page.pagePath\n",
      "hits.page.hostname\n",
      "hits.page.pageTitle\n",
      "hits.page.pagePathLevel1\n",
      "hits.page.pagePathLevel2\n",
      "hits.page.pagePathLevel3\n",
      "hits.page.pagePathLevel4\n",
      "hits.transaction.currencyCode\n",
      "hits.item.currencyCode\n",
      "hits.appInfo.screenName\n",
      "hits.appInfo.landingScreenName\n",
      "hits.appInfo.exitScreenName\n",
      "hits.appInfo.screenDepth\n",
      "hits.exceptionInfo.isFatal\n",
      "hits.eCommerceAction.action_type\n",
      "hits.eCommerceAction.step\n",
      "hits.social.socialNetwork\n",
      "hits.social.hasSocialSourceReferral\n",
      "hits.social.socialInteractionNetworkAction\n",
      "hits.contentGroup.contentGroup1\n",
      "hits.contentGroup.contentGroup2\n",
      "hits.contentGroup.contentGroup3\n",
      "hits.contentGroup.contentGroup4\n",
      "hits.contentGroup.contentGroup5\n",
      "hits.contentGroup.previousContentGroup1\n",
      "hits.contentGroup.previousContentGroup2\n",
      "hits.contentGroup.previousContentGroup3\n",
      "hits.contentGroup.previousContentGroup4\n",
      "hits.contentGroup.previousContentGroup5\n",
      "hits.contentGroup.contentGroupUniqueViews2\n",
      "hits.page.searchKeyword\n",
      "hits.page.searchCategory\n",
      "hits.promotionActionInfo.promoIsView\n",
      "hits.contentGroup.contentGroupUniqueViews1\n",
      "hits.contentGroup.contentGroupUniqueViews3\n",
      "hits.eventInfo.eventCategory\n",
      "hits.eventInfo.eventAction\n",
      "hits.eventInfo.eventLabel\n",
      "hits.latencyTracking.pageLoadSample\n",
      "hits.latencyTracking.pageLoadTime\n",
      "hits.latencyTracking.pageDownloadTime\n",
      "hits.latencyTracking.speedMetricsSample\n",
      "hits.latencyTracking.domainLookupTime\n",
      "hits.latencyTracking.serverConnectionTime\n",
      "hits.latencyTracking.serverResponseTime\n",
      "hits.latencyTracking.domLatencyMetricsSample\n",
      "hits.latencyTracking.domInteractiveTime\n",
      "hits.latencyTracking.domContentLoadedTime\n",
      "hits.eCommerceAction.option\n",
      "hits.latencyTracking.redirectionTime\n",
      "hits.transaction.transactionId\n",
      "hits.transaction.transactionRevenue\n",
      "hits.transaction.transactionTax\n",
      "hits.transaction.transactionShipping\n",
      "hits.transaction.affiliation\n",
      "hits.transaction.localTransactionRevenue\n",
      "hits.transaction.localTransactionTax\n",
      "hits.transaction.localTransactionShipping\n",
      "hits.item.transactionId\n",
      "customDimensions.index\n",
      "customDimensions.value\n"
     ]
    }
   ],
   "source": [
    "for columns in list(range(len(train_df.columns))):\n",
    "    print(train_df.columns[columns])"
   ]
  },
  {
   "cell_type": "code",
   "execution_count": 173,
   "metadata": {},
   "outputs": [
    {
     "data": {
      "text/plain": [
       "(not set)    10461\n",
       "Name: hits.social.socialNetwork, dtype: int64"
      ]
     },
     "execution_count": 173,
     "metadata": {},
     "output_type": "execute_result"
    }
   ],
   "source": [
    "train_df['hits.social.socialNetwork'].value_counts()"
   ]
  },
  {
   "cell_type": "markdown",
   "metadata": {},
   "source": [
    "## Clean up\n",
    "There seems to be a few columns that are 'not available in demo dataset.' Let's get rid of them, as well as any features that only have a single value (and therefore are not useful for differentiating samples):"
   ]
  },
  {
   "cell_type": "code",
   "execution_count": 4,
   "metadata": {},
   "outputs": [
    {
     "data": {
      "text/plain": [
       "['socialEngagementType',\n",
       " 'device.browserVersion',\n",
       " 'device.browserSize',\n",
       " 'device.operatingSystemVersion',\n",
       " 'device.mobileDeviceBranding',\n",
       " 'device.mobileDeviceModel',\n",
       " 'device.mobileInputSelector',\n",
       " 'device.mobileDeviceInfo',\n",
       " 'device.mobileDeviceMarketingName',\n",
       " 'device.flashVersion',\n",
       " 'device.language',\n",
       " 'device.screenColors',\n",
       " 'device.screenResolution',\n",
       " 'geoNetwork.cityId',\n",
       " 'geoNetwork.latitude',\n",
       " 'geoNetwork.longitude',\n",
       " 'geoNetwork.networkLocation',\n",
       " 'totals.visits',\n",
       " 'totals.bounces',\n",
       " 'totals.newVisits',\n",
       " 'trafficSource.adwordsClickInfo.criteriaParameters',\n",
       " 'trafficSource.isTrueDirect',\n",
       " 'trafficSource.adwordsClickInfo.isVideoAd',\n",
       " 'trafficSource.campaignCode']"
      ]
     },
     "execution_count": 4,
     "metadata": {},
     "output_type": "execute_result"
    }
   ],
   "source": [
    "NA_cols = []\n",
    "for col in train_df.columns:\n",
    "    if train_df[col].nunique()==1: # find columns that have only 1 unique element\n",
    "        NA_cols.append(col) # create list of these columns \n",
    "        \n",
    "NA_cols"
   ]
  },
  {
   "cell_type": "markdown",
   "metadata": {},
   "source": [
    "Drop colums with only a single unique element and the column `hits`:"
   ]
  },
  {
   "cell_type": "code",
   "execution_count": 5,
   "metadata": {},
   "outputs": [],
   "source": [
    "train_df.drop(NA_cols, axis=1, inplace=True)\n",
    "train_df.drop('hits', axis=1, inplace=True)"
   ]
  },
  {
   "cell_type": "markdown",
   "metadata": {},
   "source": [
    "## Exploratory data analysis"
   ]
  },
  {
   "cell_type": "markdown",
   "metadata": {},
   "source": [
    "Create pandas_profiling report:"
   ]
  },
  {
   "cell_type": "code",
   "execution_count": 6,
   "metadata": {
    "collapsed": true
   },
   "outputs": [
    {
     "ename": "TypeError",
     "evalue": "to_file() got an unexpected keyword argument 'outputfile'",
     "output_type": "error",
     "traceback": [
      "\u001b[0;31m---------------------------------------------------------------------------\u001b[0m",
      "\u001b[0;31mTypeError\u001b[0m                                 Traceback (most recent call last)",
      "\u001b[0;32m<ipython-input-6-6899e7e05cc4>\u001b[0m in \u001b[0;36m<module>\u001b[0;34m\u001b[0m\n\u001b[0;32m----> 1\u001b[0;31m \u001b[0mpp\u001b[0m\u001b[0;34m.\u001b[0m\u001b[0mProfileReport\u001b[0m\u001b[0;34m(\u001b[0m\u001b[0mtrain_df\u001b[0m\u001b[0;34m)\u001b[0m\u001b[0;34m.\u001b[0m\u001b[0mto_file\u001b[0m\u001b[0;34m(\u001b[0m\u001b[0moutputfile\u001b[0m\u001b[0;34m=\u001b[0m\u001b[0;34m\"EDA_report-mp.html\"\u001b[0m\u001b[0;34m)\u001b[0m\u001b[0;34m\u001b[0m\u001b[0;34m\u001b[0m\u001b[0m\n\u001b[0m",
      "\u001b[0;31mTypeError\u001b[0m: to_file() got an unexpected keyword argument 'outputfile'"
     ]
    }
   ],
   "source": [
    "pp.ProfileReport(train_df).to_file(outputfile=\"EDA_report-mp.html\")"
   ]
  },
  {
   "cell_type": "markdown",
   "metadata": {},
   "source": [
    "Compare different features:"
   ]
  },
  {
   "cell_type": "code",
   "execution_count": 13,
   "metadata": {},
   "outputs": [
    {
     "name": "stdout",
     "output_type": "stream",
     "text": [
      "<class 'pandas.core.frame.DataFrame'>\n",
      "RangeIndex: 170000 entries, 0 to 169999\n",
      "Data columns (total 36 columns):\n",
      "channelGrouping                                 170000 non-null object\n",
      "date                                            170000 non-null int64\n",
      "fullVisitorId                                   170000 non-null object\n",
      "visitId                                         170000 non-null int64\n",
      "visitNumber                                     170000 non-null int64\n",
      "visitStartTime                                  170000 non-null int64\n",
      "customDimensions.index                          170000 non-null object\n",
      "customDimensions.value                          170000 non-null object\n",
      "device.browser                                  170000 non-null object\n",
      "device.operatingSystem                          170000 non-null object\n",
      "device.isMobile                                 170000 non-null bool\n",
      "device.deviceCategory                           170000 non-null object\n",
      "geoNetwork.continent                            170000 non-null object\n",
      "geoNetwork.subContinent                         170000 non-null object\n",
      "geoNetwork.country                              170000 non-null object\n",
      "geoNetwork.region                               170000 non-null object\n",
      "geoNetwork.metro                                170000 non-null object\n",
      "geoNetwork.city                                 170000 non-null object\n",
      "geoNetwork.networkDomain                        170000 non-null object\n",
      "totals.hits                                     170000 non-null object\n",
      "totals.pageviews                                169980 non-null object\n",
      "totals.sessionQualityDim                        82155 non-null object\n",
      "totals.timeOnSite                               84389 non-null object\n",
      "totals.transactions                             1888 non-null object\n",
      "totals.transactionRevenue                       1880 non-null object\n",
      "totals.totalTransactionRevenue                  1880 non-null object\n",
      "trafficSource.campaign                          170000 non-null object\n",
      "trafficSource.source                            170000 non-null object\n",
      "trafficSource.medium                            170000 non-null object\n",
      "trafficSource.keyword                           57186 non-null object\n",
      "trafficSource.referralPath                      56225 non-null object\n",
      "trafficSource.adContent                         7014 non-null object\n",
      "trafficSource.adwordsClickInfo.page             8201 non-null object\n",
      "trafficSource.adwordsClickInfo.slot             8201 non-null object\n",
      "trafficSource.adwordsClickInfo.gclId            8256 non-null object\n",
      "trafficSource.adwordsClickInfo.adNetworkType    8201 non-null object\n",
      "dtypes: bool(1), int64(4), object(31)\n",
      "memory usage: 45.6+ MB\n"
     ]
    }
   ],
   "source": [
    "train_df.info()"
   ]
  },
  {
   "cell_type": "code",
   "execution_count": 53,
   "metadata": {},
   "outputs": [
    {
     "ename": "KeyError",
     "evalue": "\"['NaN'] not found in axis\"",
     "output_type": "error",
     "traceback": [
      "\u001b[0;31m---------------------------------------------------------------------------\u001b[0m",
      "\u001b[0;31mKeyError\u001b[0m                                  Traceback (most recent call last)",
      "\u001b[0;32m<ipython-input-53-4cdc6e0531b1>\u001b[0m in \u001b[0;36m<module>\u001b[0;34m\u001b[0m\n\u001b[0;32m----> 1\u001b[0;31m \u001b[0mtrain_df\u001b[0m\u001b[0;34m[\u001b[0m\u001b[0;34m'totals.transactionRevenue'\u001b[0m\u001b[0;34m]\u001b[0m\u001b[0;34m.\u001b[0m\u001b[0mdrop\u001b[0m\u001b[0;34m(\u001b[0m\u001b[0;34m'NaN'\u001b[0m\u001b[0;34m)\u001b[0m\u001b[0;34m\u001b[0m\u001b[0;34m\u001b[0m\u001b[0m\n\u001b[0m",
      "\u001b[0;32m~/Applications/anaconda3/lib/python3.7/site-packages/pandas/core/series.py\u001b[0m in \u001b[0;36mdrop\u001b[0;34m(self, labels, axis, index, columns, level, inplace, errors)\u001b[0m\n\u001b[1;32m   4319\u001b[0m             \u001b[0mlevel\u001b[0m\u001b[0;34m=\u001b[0m\u001b[0mlevel\u001b[0m\u001b[0;34m,\u001b[0m\u001b[0;34m\u001b[0m\u001b[0;34m\u001b[0m\u001b[0m\n\u001b[1;32m   4320\u001b[0m             \u001b[0minplace\u001b[0m\u001b[0;34m=\u001b[0m\u001b[0minplace\u001b[0m\u001b[0;34m,\u001b[0m\u001b[0;34m\u001b[0m\u001b[0;34m\u001b[0m\u001b[0m\n\u001b[0;32m-> 4321\u001b[0;31m             \u001b[0merrors\u001b[0m\u001b[0;34m=\u001b[0m\u001b[0merrors\u001b[0m\u001b[0;34m,\u001b[0m\u001b[0;34m\u001b[0m\u001b[0;34m\u001b[0m\u001b[0m\n\u001b[0m\u001b[1;32m   4322\u001b[0m         )\n\u001b[1;32m   4323\u001b[0m \u001b[0;34m\u001b[0m\u001b[0m\n",
      "\u001b[0;32m~/Applications/anaconda3/lib/python3.7/site-packages/pandas/core/generic.py\u001b[0m in \u001b[0;36mdrop\u001b[0;34m(self, labels, axis, index, columns, level, inplace, errors)\u001b[0m\n\u001b[1;32m   3913\u001b[0m         \u001b[0;32mfor\u001b[0m \u001b[0maxis\u001b[0m\u001b[0;34m,\u001b[0m \u001b[0mlabels\u001b[0m \u001b[0;32min\u001b[0m \u001b[0maxes\u001b[0m\u001b[0;34m.\u001b[0m\u001b[0mitems\u001b[0m\u001b[0;34m(\u001b[0m\u001b[0;34m)\u001b[0m\u001b[0;34m:\u001b[0m\u001b[0;34m\u001b[0m\u001b[0;34m\u001b[0m\u001b[0m\n\u001b[1;32m   3914\u001b[0m             \u001b[0;32mif\u001b[0m \u001b[0mlabels\u001b[0m \u001b[0;32mis\u001b[0m \u001b[0;32mnot\u001b[0m \u001b[0;32mNone\u001b[0m\u001b[0;34m:\u001b[0m\u001b[0;34m\u001b[0m\u001b[0;34m\u001b[0m\u001b[0m\n\u001b[0;32m-> 3915\u001b[0;31m                 \u001b[0mobj\u001b[0m \u001b[0;34m=\u001b[0m \u001b[0mobj\u001b[0m\u001b[0;34m.\u001b[0m\u001b[0m_drop_axis\u001b[0m\u001b[0;34m(\u001b[0m\u001b[0mlabels\u001b[0m\u001b[0;34m,\u001b[0m \u001b[0maxis\u001b[0m\u001b[0;34m,\u001b[0m \u001b[0mlevel\u001b[0m\u001b[0;34m=\u001b[0m\u001b[0mlevel\u001b[0m\u001b[0;34m,\u001b[0m \u001b[0merrors\u001b[0m\u001b[0;34m=\u001b[0m\u001b[0merrors\u001b[0m\u001b[0;34m)\u001b[0m\u001b[0;34m\u001b[0m\u001b[0;34m\u001b[0m\u001b[0m\n\u001b[0m\u001b[1;32m   3916\u001b[0m \u001b[0;34m\u001b[0m\u001b[0m\n\u001b[1;32m   3917\u001b[0m         \u001b[0;32mif\u001b[0m \u001b[0minplace\u001b[0m\u001b[0;34m:\u001b[0m\u001b[0;34m\u001b[0m\u001b[0;34m\u001b[0m\u001b[0m\n",
      "\u001b[0;32m~/Applications/anaconda3/lib/python3.7/site-packages/pandas/core/generic.py\u001b[0m in \u001b[0;36m_drop_axis\u001b[0;34m(self, labels, axis, level, errors)\u001b[0m\n\u001b[1;32m   3945\u001b[0m                 \u001b[0mnew_axis\u001b[0m \u001b[0;34m=\u001b[0m \u001b[0maxis\u001b[0m\u001b[0;34m.\u001b[0m\u001b[0mdrop\u001b[0m\u001b[0;34m(\u001b[0m\u001b[0mlabels\u001b[0m\u001b[0;34m,\u001b[0m \u001b[0mlevel\u001b[0m\u001b[0;34m=\u001b[0m\u001b[0mlevel\u001b[0m\u001b[0;34m,\u001b[0m \u001b[0merrors\u001b[0m\u001b[0;34m=\u001b[0m\u001b[0merrors\u001b[0m\u001b[0;34m)\u001b[0m\u001b[0;34m\u001b[0m\u001b[0;34m\u001b[0m\u001b[0m\n\u001b[1;32m   3946\u001b[0m             \u001b[0;32melse\u001b[0m\u001b[0;34m:\u001b[0m\u001b[0;34m\u001b[0m\u001b[0;34m\u001b[0m\u001b[0m\n\u001b[0;32m-> 3947\u001b[0;31m                 \u001b[0mnew_axis\u001b[0m \u001b[0;34m=\u001b[0m \u001b[0maxis\u001b[0m\u001b[0;34m.\u001b[0m\u001b[0mdrop\u001b[0m\u001b[0;34m(\u001b[0m\u001b[0mlabels\u001b[0m\u001b[0;34m,\u001b[0m \u001b[0merrors\u001b[0m\u001b[0;34m=\u001b[0m\u001b[0merrors\u001b[0m\u001b[0;34m)\u001b[0m\u001b[0;34m\u001b[0m\u001b[0;34m\u001b[0m\u001b[0m\n\u001b[0m\u001b[1;32m   3948\u001b[0m             \u001b[0mresult\u001b[0m \u001b[0;34m=\u001b[0m \u001b[0mself\u001b[0m\u001b[0;34m.\u001b[0m\u001b[0mreindex\u001b[0m\u001b[0;34m(\u001b[0m\u001b[0;34m**\u001b[0m\u001b[0;34m{\u001b[0m\u001b[0maxis_name\u001b[0m\u001b[0;34m:\u001b[0m \u001b[0mnew_axis\u001b[0m\u001b[0;34m}\u001b[0m\u001b[0;34m)\u001b[0m\u001b[0;34m\u001b[0m\u001b[0;34m\u001b[0m\u001b[0m\n\u001b[1;32m   3949\u001b[0m \u001b[0;34m\u001b[0m\u001b[0m\n",
      "\u001b[0;32m~/Applications/anaconda3/lib/python3.7/site-packages/pandas/core/indexes/base.py\u001b[0m in \u001b[0;36mdrop\u001b[0;34m(self, labels, errors)\u001b[0m\n\u001b[1;32m   5331\u001b[0m         \u001b[0;32mif\u001b[0m \u001b[0mmask\u001b[0m\u001b[0;34m.\u001b[0m\u001b[0many\u001b[0m\u001b[0;34m(\u001b[0m\u001b[0;34m)\u001b[0m\u001b[0;34m:\u001b[0m\u001b[0;34m\u001b[0m\u001b[0;34m\u001b[0m\u001b[0m\n\u001b[1;32m   5332\u001b[0m             \u001b[0;32mif\u001b[0m \u001b[0merrors\u001b[0m \u001b[0;34m!=\u001b[0m \u001b[0;34m\"ignore\"\u001b[0m\u001b[0;34m:\u001b[0m\u001b[0;34m\u001b[0m\u001b[0;34m\u001b[0m\u001b[0m\n\u001b[0;32m-> 5333\u001b[0;31m                 \u001b[0;32mraise\u001b[0m \u001b[0mKeyError\u001b[0m\u001b[0;34m(\u001b[0m\u001b[0;34m\"{} not found in axis\"\u001b[0m\u001b[0;34m.\u001b[0m\u001b[0mformat\u001b[0m\u001b[0;34m(\u001b[0m\u001b[0mlabels\u001b[0m\u001b[0;34m[\u001b[0m\u001b[0mmask\u001b[0m\u001b[0;34m]\u001b[0m\u001b[0;34m)\u001b[0m\u001b[0;34m)\u001b[0m\u001b[0;34m\u001b[0m\u001b[0;34m\u001b[0m\u001b[0m\n\u001b[0m\u001b[1;32m   5334\u001b[0m             \u001b[0mindexer\u001b[0m \u001b[0;34m=\u001b[0m \u001b[0mindexer\u001b[0m\u001b[0;34m[\u001b[0m\u001b[0;34m~\u001b[0m\u001b[0mmask\u001b[0m\u001b[0;34m]\u001b[0m\u001b[0;34m\u001b[0m\u001b[0;34m\u001b[0m\u001b[0m\n\u001b[1;32m   5335\u001b[0m         \u001b[0;32mreturn\u001b[0m \u001b[0mself\u001b[0m\u001b[0;34m.\u001b[0m\u001b[0mdelete\u001b[0m\u001b[0;34m(\u001b[0m\u001b[0mindexer\u001b[0m\u001b[0;34m)\u001b[0m\u001b[0;34m\u001b[0m\u001b[0;34m\u001b[0m\u001b[0m\n",
      "\u001b[0;31mKeyError\u001b[0m: \"['NaN'] not found in axis\""
     ]
    }
   ],
   "source": [
    "train_df['totals.transactionRevenue'].drop('NaN')"
   ]
  },
  {
   "cell_type": "markdown",
   "metadata": {},
   "source": [
    "Set target"
   ]
  },
  {
   "cell_type": "code",
   "execution_count": 31,
   "metadata": {},
   "outputs": [],
   "source": [
    "train_target = train_df.groupby('fullVisitorId')['totals.transactionRevenue']"
   ]
  },
  {
   "cell_type": "code",
   "execution_count": 55,
   "metadata": {},
   "outputs": [
    {
     "data": {
      "text/plain": [
       "float"
      ]
     },
     "execution_count": 55,
     "metadata": {},
     "output_type": "execute_result"
    }
   ],
   "source": [
    "type( train_df['totals.transactionRevenue'][1])"
   ]
  },
  {
   "cell_type": "code",
   "execution_count": 59,
   "metadata": {},
   "outputs": [
    {
     "ename": "TypeError",
     "evalue": "'builtin_function_or_method' object is not iterable",
     "output_type": "error",
     "traceback": [
      "\u001b[0;31m---------------------------------------------------------------------------\u001b[0m",
      "\u001b[0;31mTypeError\u001b[0m                                 Traceback (most recent call last)",
      "\u001b[0;32m<ipython-input-59-947b31f74808>\u001b[0m in \u001b[0;36m<module>\u001b[0;34m\u001b[0m\n\u001b[0;32m----> 1\u001b[0;31m \u001b[0mmap\u001b[0m\u001b[0;34m(\u001b[0m\u001b[0mtrain_df\u001b[0m\u001b[0;34m[\u001b[0m\u001b[0;34m'totals.transactionRevenue'\u001b[0m\u001b[0;34m]\u001b[0m\u001b[0;34m,\u001b[0m \u001b[0mmath\u001b[0m\u001b[0;34m.\u001b[0m\u001b[0misnan\u001b[0m\u001b[0;34m)\u001b[0m\u001b[0;34m\u001b[0m\u001b[0;34m\u001b[0m\u001b[0m\n\u001b[0m",
      "\u001b[0;31mTypeError\u001b[0m: 'builtin_function_or_method' object is not iterable"
     ]
    }
   ],
   "source": [
    "map(train_df['totals.transactionRevenue'], math.isnan)"
   ]
  },
  {
   "cell_type": "code",
   "execution_count": 99,
   "metadata": {},
   "outputs": [
    {
     "ename": "TypeError",
     "evalue": "must be real number, not str",
     "output_type": "error",
     "traceback": [
      "\u001b[0;31m---------------------------------------------------------------------------\u001b[0m",
      "\u001b[0;31mTypeError\u001b[0m                                 Traceback (most recent call last)",
      "\u001b[0;32m<ipython-input-99-844f2e86674d>\u001b[0m in \u001b[0;36m<module>\u001b[0;34m\u001b[0m\n\u001b[1;32m      1\u001b[0m \u001b[0;32mfor\u001b[0m \u001b[0mi\u001b[0m \u001b[0;32min\u001b[0m \u001b[0mlist\u001b[0m\u001b[0;34m(\u001b[0m\u001b[0mrange\u001b[0m\u001b[0;34m(\u001b[0m\u001b[0mlen\u001b[0m\u001b[0;34m(\u001b[0m\u001b[0mtrain_df\u001b[0m\u001b[0;34m)\u001b[0m\u001b[0;34m//\u001b[0m\u001b[0;36m100\u001b[0m\u001b[0;34m)\u001b[0m\u001b[0;34m)\u001b[0m\u001b[0;34m:\u001b[0m\u001b[0;34m\u001b[0m\u001b[0;34m\u001b[0m\u001b[0m\n\u001b[0;32m----> 2\u001b[0;31m     \u001b[0mmath\u001b[0m\u001b[0;34m.\u001b[0m\u001b[0misnan\u001b[0m\u001b[0;34m(\u001b[0m\u001b[0mtrain_df\u001b[0m\u001b[0;34m[\u001b[0m\u001b[0;34m'totals.transactionRevenue'\u001b[0m\u001b[0;34m]\u001b[0m\u001b[0;34m[\u001b[0m\u001b[0mi\u001b[0m\u001b[0;34m]\u001b[0m\u001b[0;34m)\u001b[0m\u001b[0;34m\u001b[0m\u001b[0;34m\u001b[0m\u001b[0m\n\u001b[0m\u001b[1;32m      3\u001b[0m \u001b[0;34m\u001b[0m\u001b[0m\n",
      "\u001b[0;31mTypeError\u001b[0m: must be real number, not str"
     ]
    }
   ],
   "source": [
    "for i in list(range(len(train_df)//100)):\n",
    "    math.isnan(train_df['totals.transactionRevenue'][i])\n",
    "    "
   ]
  },
  {
   "cell_type": "code",
   "execution_count": 96,
   "metadata": {},
   "outputs": [
    {
     "data": {
      "text/plain": [
       "[0, 1, 2, 3, 4, 5, 6, 7, 8, 9, 10, 11, 12, 13, 14, 15, 16]"
      ]
     },
     "execution_count": 96,
     "metadata": {},
     "output_type": "execute_result"
    }
   ],
   "source": [
    " list(range(len(train_df)//10000))"
   ]
  },
  {
   "cell_type": "code",
   "execution_count": 86,
   "metadata": {},
   "outputs": [
    {
     "data": {
      "text/plain": [
       "[0, 1, 2]"
      ]
     },
     "execution_count": 86,
     "metadata": {},
     "output_type": "execute_result"
    }
   ],
   "source": [
    "list(range(len({0,1,2})))"
   ]
  },
  {
   "cell_type": "code",
   "execution_count": 80,
   "metadata": {},
   "outputs": [
    {
     "ename": "TypeError",
     "evalue": "eval() arg 1 must be a string, bytes or code object",
     "output_type": "error",
     "traceback": [
      "\u001b[0;31m---------------------------------------------------------------------------\u001b[0m",
      "\u001b[0;31mTypeError\u001b[0m                                 Traceback (most recent call last)",
      "\u001b[0;32m<ipython-input-80-345e63a9b7d0>\u001b[0m in \u001b[0;36m<module>\u001b[0;34m\u001b[0m\n\u001b[0;32m----> 1\u001b[0;31m \u001b[0meval\u001b[0m\u001b[0;34m(\u001b[0m\u001b[0;34m[\u001b[0m\u001b[0;36m1\u001b[0m\u001b[0;34m,\u001b[0m\u001b[0;36m2\u001b[0m\u001b[0;34m,\u001b[0m\u001b[0;36m3\u001b[0m\u001b[0;34m]\u001b[0m\u001b[0;34m)\u001b[0m\u001b[0;34m\u001b[0m\u001b[0;34m\u001b[0m\u001b[0m\n\u001b[0m",
      "\u001b[0;31mTypeError\u001b[0m: eval() arg 1 must be a string, bytes or code object"
     ]
    }
   ],
   "source": [
    "eval([1,2,3])"
   ]
  },
  {
   "cell_type": "code",
   "execution_count": 104,
   "metadata": {},
   "outputs": [],
   "source": [
    "train_df.dropna(inplace = True) "
   ]
  },
  {
   "cell_type": "code",
   "execution_count": 107,
   "metadata": {},
   "outputs": [
    {
     "data": {
      "text/html": [
       "<div>\n",
       "<style scoped>\n",
       "    .dataframe tbody tr th:only-of-type {\n",
       "        vertical-align: middle;\n",
       "    }\n",
       "\n",
       "    .dataframe tbody tr th {\n",
       "        vertical-align: top;\n",
       "    }\n",
       "\n",
       "    .dataframe thead th {\n",
       "        text-align: right;\n",
       "    }\n",
       "</style>\n",
       "<table border=\"1\" class=\"dataframe\">\n",
       "  <thead>\n",
       "    <tr style=\"text-align: right;\">\n",
       "      <th></th>\n",
       "      <th>channelGrouping</th>\n",
       "      <th>date</th>\n",
       "      <th>fullVisitorId</th>\n",
       "      <th>visitId</th>\n",
       "      <th>visitNumber</th>\n",
       "      <th>visitStartTime</th>\n",
       "      <th>customDimensions.index</th>\n",
       "      <th>customDimensions.value</th>\n",
       "      <th>device.browser</th>\n",
       "      <th>device.operatingSystem</th>\n",
       "      <th>...</th>\n",
       "      <th>trafficSource.campaign</th>\n",
       "      <th>trafficSource.source</th>\n",
       "      <th>trafficSource.medium</th>\n",
       "      <th>trafficSource.keyword</th>\n",
       "      <th>trafficSource.referralPath</th>\n",
       "      <th>trafficSource.adContent</th>\n",
       "      <th>trafficSource.adwordsClickInfo.page</th>\n",
       "      <th>trafficSource.adwordsClickInfo.slot</th>\n",
       "      <th>trafficSource.adwordsClickInfo.gclId</th>\n",
       "      <th>trafficSource.adwordsClickInfo.adNetworkType</th>\n",
       "    </tr>\n",
       "  </thead>\n",
       "  <tbody>\n",
       "  </tbody>\n",
       "</table>\n",
       "<p>0 rows × 36 columns</p>\n",
       "</div>"
      ],
      "text/plain": [
       "Empty DataFrame\n",
       "Columns: [channelGrouping, date, fullVisitorId, visitId, visitNumber, visitStartTime, customDimensions.index, customDimensions.value, device.browser, device.operatingSystem, device.isMobile, device.deviceCategory, geoNetwork.continent, geoNetwork.subContinent, geoNetwork.country, geoNetwork.region, geoNetwork.metro, geoNetwork.city, geoNetwork.networkDomain, totals.hits, totals.pageviews, totals.sessionQualityDim, totals.timeOnSite, totals.transactions, totals.transactionRevenue, totals.totalTransactionRevenue, trafficSource.campaign, trafficSource.source, trafficSource.medium, trafficSource.keyword, trafficSource.referralPath, trafficSource.adContent, trafficSource.adwordsClickInfo.page, trafficSource.adwordsClickInfo.slot, trafficSource.adwordsClickInfo.gclId, trafficSource.adwordsClickInfo.adNetworkType]\n",
       "Index: []\n",
       "\n",
       "[0 rows x 36 columns]"
      ]
     },
     "execution_count": 107,
     "metadata": {},
     "output_type": "execute_result"
    }
   ],
   "source": [
    "train_df"
   ]
  },
  {
   "cell_type": "code",
   "execution_count": null,
   "metadata": {},
   "outputs": [],
   "source": []
  }
 ],
 "metadata": {
  "kernelspec": {
   "display_name": "Python 3",
   "language": "python",
   "name": "python3"
  },
  "language_info": {
   "codemirror_mode": {
    "name": "ipython",
    "version": 3
   },
   "file_extension": ".py",
   "mimetype": "text/x-python",
   "name": "python",
   "nbconvert_exporter": "python",
   "pygments_lexer": "ipython3",
   "version": "3.7.3"
  },
  "toc": {
   "base_numbering": 1,
   "nav_menu": {},
   "number_sections": true,
   "sideBar": true,
   "skip_h1_title": false,
   "title_cell": "Table of Contents",
   "title_sidebar": "Contents",
   "toc_cell": false,
   "toc_position": {
    "height": "calc(100% - 180px)",
    "left": "10px",
    "top": "150px",
    "width": "223.390625px"
   },
   "toc_section_display": true,
   "toc_window_display": true
  }
 },
 "nbformat": 4,
 "nbformat_minor": 2
}
