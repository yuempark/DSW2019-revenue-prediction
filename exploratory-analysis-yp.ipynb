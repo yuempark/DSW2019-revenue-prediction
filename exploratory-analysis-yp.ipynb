{
 "cells": [
  {
   "cell_type": "markdown",
   "metadata": {},
   "source": [
    "# Exploratory Analysis\n",
    "\n",
    "Group project for the 2019 Data Science Workshop at the University of California, Berkeley.\n",
    "\n",
    "The project is the Google Analytics Customer Revenue Prediction competition on Kaggle: https://www.kaggle.com/c/ga-customer-revenue-prediction\n",
    "\n",
    "Group members:\n",
    "\n",
    "* Andy Vargas (mentor)\n",
    "* Yuem Park\n",
    "* Marvin Pohl\n",
    "* Michael Yeh"
   ]
  },
  {
   "cell_type": "code",
   "execution_count": 1,
   "metadata": {},
   "outputs": [],
   "source": [
    "import os\n",
    "import json\n",
    "import numpy as np\n",
    "import pandas as pd\n",
    "from pandas.io.json import json_normalize\n",
    "import matplotlib.pyplot as plt\n",
    "\n",
    "pd.options.display.max_columns = 999"
   ]
  },
  {
   "cell_type": "markdown",
   "metadata": {},
   "source": [
    "## Load data\n",
    "\n",
    "Note that the data files are too large to upload to GitHub - instead, the directory `./data/` has been added to the .gitignore, which should contain the following files on your local machine, all downloaded from the Kaggle competition website:\n",
    "\n",
    "* sample_submission_v2.csv\n",
    "* test_v2.csv\n",
    "* train_v2.csv"
   ]
  },
  {
   "cell_type": "code",
   "execution_count": 2,
   "metadata": {},
   "outputs": [],
   "source": [
    "# if you want to skip the loading and cleaning of the raw data, set this to True\n",
    "create_cleaned = False\n",
    "\n",
    "# if you want to create a sub-sampled cleaned data, set this to True\n",
    "create_small_cleaned = False\n",
    "\n",
    "# if you want to ONLY load a previously generated sub-sampled cleaned data, set this to True\n",
    "load_small_cleaned_only = True"
   ]
  },
  {
   "cell_type": "markdown",
   "metadata": {},
   "source": [
    "Some of the columns are in JSON format - the following function (taken from https://www.kaggle.com/sudalairajkumar/simple-exploration-baseline-ga-customer-revenue) flattens the JSON columns, such that we end up with a more typical data table, where each column has a single feature in it:"
   ]
  },
  {
   "cell_type": "code",
   "execution_count": 3,
   "metadata": {},
   "outputs": [],
   "source": [
    "if create_cleaned==True and load_small_cleaned_only==False:\n",
    "    \n",
    "    def load_df(csv_path='./data/train_v2.csv', nrows=None):\n",
    "        JSON_COLUMNS = ['device', 'geoNetwork', 'totals', 'trafficSource']\n",
    "\n",
    "        df = pd.read_csv(csv_path, \n",
    "                         converters={column: json.loads for column in JSON_COLUMNS}, \n",
    "                         dtype={'fullVisitorId': 'str'}, # Important!!\n",
    "                         nrows=nrows)\n",
    "\n",
    "        for column in JSON_COLUMNS:\n",
    "            column_as_df = json_normalize(df[column])\n",
    "            column_as_df.columns = [f\"{column}.{subcolumn}\" for subcolumn in column_as_df.columns]\n",
    "            df = df.drop(column, axis=1).merge(column_as_df, right_index=True, left_index=True)\n",
    "        print(f\"Loaded {os.path.basename(csv_path)}. Shape: {df.shape}\")\n",
    "        return df\n",
    "    \n",
    "    train = load_df()\n",
    "    \n",
    "    train.head()"
   ]
  },
  {
   "cell_type": "markdown",
   "metadata": {},
   "source": [
    "There seems to be a few columns that are 'not available in demo dataset.' Let's get rid of them, as well as any features that only have a single value (and therefore are not useful for differentiating samples):"
   ]
  },
  {
   "cell_type": "code",
   "execution_count": 4,
   "metadata": {},
   "outputs": [],
   "source": [
    "if create_cleaned==True and load_small_cleaned_only==False:\n",
    "\n",
    "    NA_cols = []\n",
    "    for col in train.columns:\n",
    "        if train[col].nunique()==1:\n",
    "            NA_cols.append(col)\n",
    "            \n",
    "    train.drop(NA_cols, axis=1, inplace=True)\n",
    "\n",
    "    NA_cols\n",
    "    \n",
    "    # save it out as a .csv which we can read back in later\n",
    "    train.to_csv('./data/train_cleaned.csv', index=False)"
   ]
  },
  {
   "cell_type": "markdown",
   "metadata": {},
   "source": [
    "If we decided to skip the loading and cleaning and read in the previously generated .csv:"
   ]
  },
  {
   "cell_type": "code",
   "execution_count": 5,
   "metadata": {},
   "outputs": [],
   "source": [
    "if create_cleaned==False and load_small_cleaned_only==False:\n",
    "    \n",
    "    train = pd.read_csv('./data/train_cleaned.csv', dtype={'fullVisitorId':'str'})"
   ]
  },
  {
   "cell_type": "markdown",
   "metadata": {},
   "source": [
    "Generate a sub-sampled version of the cleaned data, for faster load/computation times:"
   ]
  },
  {
   "cell_type": "code",
   "execution_count": 6,
   "metadata": {},
   "outputs": [],
   "source": [
    "if create_small_cleaned==True and load_small_cleaned_only==False:\n",
    "    \n",
    "    train_small = train.sample(frac=0.1, random_state=2019)\n",
    "    \n",
    "    train_small.to_csv('./data/train_cleaned_small.csv', index=False)"
   ]
  },
  {
   "cell_type": "markdown",
   "metadata": {},
   "source": [
    "If we decided to skip the loading and cleaning and read in the previously generated .csv:"
   ]
  },
  {
   "cell_type": "code",
   "execution_count": 7,
   "metadata": {},
   "outputs": [],
   "source": [
    "if create_small_cleaned==False:\n",
    "    \n",
    "    train_small = pd.read_csv('./data/train_cleaned_small.csv', dtype={'fullVisitorId':'str'})"
   ]
  },
  {
   "cell_type": "markdown",
   "metadata": {},
   "source": [
    "## Simple exploration"
   ]
  },
  {
   "cell_type": "code",
   "execution_count": 12,
   "metadata": {
    "scrolled": false
   },
   "outputs": [
    {
     "name": "stdout",
     "output_type": "stream",
     "text": [
      "<class 'pandas.core.frame.DataFrame'>\n",
      "RangeIndex: 170834 entries, 0 to 170833\n",
      "Data columns (total 36 columns):\n",
      "channelGrouping                                 170834 non-null object\n",
      "customDimensions                                170834 non-null object\n",
      "date                                            170834 non-null int64\n",
      "fullVisitorId                                   170834 non-null object\n",
      "hits                                            170834 non-null object\n",
      "visitId                                         170834 non-null int64\n",
      "visitNumber                                     170834 non-null int64\n",
      "visitStartTime                                  170834 non-null int64\n",
      "device.browser                                  170834 non-null object\n",
      "device.deviceCategory                           170834 non-null object\n",
      "device.isMobile                                 170834 non-null bool\n",
      "device.operatingSystem                          170834 non-null object\n",
      "geoNetwork.city                                 170834 non-null object\n",
      "geoNetwork.continent                            170834 non-null object\n",
      "geoNetwork.country                              170834 non-null object\n",
      "geoNetwork.metro                                170834 non-null object\n",
      "geoNetwork.networkDomain                        170834 non-null object\n",
      "geoNetwork.region                               170834 non-null object\n",
      "geoNetwork.subContinent                         170834 non-null object\n",
      "totals.hits                                     170834 non-null int64\n",
      "totals.pageviews                                170811 non-null float64\n",
      "totals.sessionQualityDim                        86919 non-null float64\n",
      "totals.timeOnSite                               83533 non-null float64\n",
      "totals.totalTransactionRevenue                  1851 non-null float64\n",
      "totals.transactionRevenue                       1851 non-null float64\n",
      "totals.transactions                             1856 non-null float64\n",
      "trafficSource.adContent                         6451 non-null object\n",
      "trafficSource.adwordsClickInfo.adNetworkType    7470 non-null object\n",
      "trafficSource.adwordsClickInfo.gclId            7481 non-null object\n",
      "trafficSource.adwordsClickInfo.page             7470 non-null float64\n",
      "trafficSource.adwordsClickInfo.slot             7470 non-null object\n",
      "trafficSource.campaign                          170834 non-null object\n",
      "trafficSource.keyword                           65410 non-null object\n",
      "trafficSource.medium                            170834 non-null object\n",
      "trafficSource.referralPath                      56715 non-null object\n",
      "trafficSource.source                            170834 non-null object\n",
      "dtypes: bool(1), float64(7), int64(5), object(23)\n",
      "memory usage: 45.8+ MB\n"
     ]
    }
   ],
   "source": [
    "train_small.info()"
   ]
  },
  {
   "cell_type": "markdown",
   "metadata": {},
   "source": [
    "Things to look at:\n",
    "\n",
    "* how many times do people buy things?"
   ]
  },
  {
   "cell_type": "code",
   "execution_count": null,
   "metadata": {},
   "outputs": [],
   "source": []
  }
 ],
 "metadata": {
  "kernelspec": {
   "display_name": "Python 3",
   "language": "python",
   "name": "python3"
  },
  "language_info": {
   "codemirror_mode": {
    "name": "ipython",
    "version": 3
   },
   "file_extension": ".py",
   "mimetype": "text/x-python",
   "name": "python",
   "nbconvert_exporter": "python",
   "pygments_lexer": "ipython3",
   "version": "3.7.3"
  }
 },
 "nbformat": 4,
 "nbformat_minor": 2
}
